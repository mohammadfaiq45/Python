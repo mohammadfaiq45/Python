{
 "cells": [
  {
   "cell_type": "markdown",
   "metadata": {},
   "source": [
    "# Lab # 2"
   ]
  },
  {
   "cell_type": "markdown",
   "metadata": {},
   "source": [
    "Iterative Structures in Python"
   ]
  },
  {
   "cell_type": "code",
   "execution_count": 1,
   "metadata": {},
   "outputs": [
    {
     "name": "stdout",
     "output_type": "stream",
     "text": [
      "Hello Faiq\n",
      "Hello Faiq\n",
      "Hello Faiq\n"
     ]
    }
   ],
   "source": [
    "#while Loop\n",
    "count=0\n",
    "while(count<3):\n",
    "    print(\"Hello Faiq\")\n",
    "    count=count+1\n",
    "    "
   ]
  },
  {
   "cell_type": "code",
   "execution_count": 2,
   "metadata": {},
   "outputs": [
    {
     "name": "stdout",
     "output_type": "stream",
     "text": [
      "Muhammad Faiq\n",
      "BCS21245\n",
      "3.22\n",
      "21\n",
      "Muhammad Faiq\n",
      "BCS21245\n",
      "3.22\n",
      "21\n"
     ]
    }
   ],
   "source": [
    "#for loop\n",
    "my_list=[\"Muhammad Faiq\",\"BCS21245\",3.22,21]\n",
    "for item in my_list:\n",
    "    print(item)\n",
    "\n",
    "#Iterating by index of sequences:\n",
    "for index in range(len(my_list)):\n",
    "    print(my_list[index])"
   ]
  },
  {
   "cell_type": "markdown",
   "metadata": {},
   "source": [
    "Loop Control Statements:"
   ]
  },
  {
   "cell_type": "code",
   "execution_count": 3,
   "metadata": {},
   "outputs": [
    {
     "name": "stdout",
     "output_type": "stream",
     "text": [
      "Current letter:S\n",
      "Current letter:y\n",
      "Current letter:n\n",
      "Current letter:c\n",
      "Current letter:r\n",
      "Current letter:o\n",
      "Current letter:n\n",
      "Current letter:i\n",
      "Current letter:z\n",
      "Current letter:a\n",
      "Current letter:t\n",
      "Current letter:i\n",
      "Current letter:o\n",
      "Current letter:n\n",
      "\n",
      "\n",
      "Current letter:S\n",
      "Current letter:y\n",
      "Current letter:n\n",
      "Current letter:c\n"
     ]
    }
   ],
   "source": [
    "#continue Statement\n",
    "for letter in 'Synchronization':\n",
    "    if letter=='h':\n",
    "        continue\n",
    "    print(\"Current letter:\"+letter)\n",
    "\n",
    "print('\\n')    \n",
    "\n",
    "#Break Statement\n",
    "for letter in 'Synchronization':\n",
    "    if letter=='h':\n",
    "        break\n",
    "    print(\"Current letter:\"+ letter)    "
   ]
  },
  {
   "cell_type": "markdown",
   "metadata": {},
   "source": [
    "# Python Functions"
   ]
  },
  {
   "cell_type": "markdown",
   "metadata": {},
   "source": [
    "Creating and calling the function"
   ]
  },
  {
   "cell_type": "code",
   "execution_count": 4,
   "metadata": {},
   "outputs": [
    {
     "name": "stdout",
     "output_type": "stream",
     "text": [
      "Hello! I am python programmer\n",
      "Ali is a Student of IT.\n",
      "He is live inPakistan\n",
      "Ahmed is a Student of IT.\n",
      "He is live inIndia\n",
      "Simran is a Student of IT.\n",
      "He is live inJapan\n"
     ]
    }
   ],
   "source": [
    "def my_function():\n",
    "    print(\"Hello! I am python programmer\")\n",
    "my_function()\n",
    "def my_function3(e_name,country='Japan'):\n",
    "    print(e_name + \" is a Student of IT.\\nHe is live in\"+country)\n",
    "my_function3('Ali','Pakistan')\n",
    "my_function3('Ahmed','India')\n",
    "my_function3('Simran')\n"
   ]
  },
  {
   "cell_type": "markdown",
   "metadata": {},
   "source": [
    "Parameterize function"
   ]
  },
  {
   "cell_type": "code",
   "execution_count": 5,
   "metadata": {},
   "outputs": [
    {
     "name": "stdout",
     "output_type": "stream",
     "text": [
      "Ali is Good in Design and Analysis\n",
      "Ahmed is Good in Design and Analysis\n",
      "Simran is Good in Design and Analysis\n"
     ]
    }
   ],
   "source": [
    "def my_function2(e_name):\n",
    "    print(e_name + \" is Good in Design and Analysis\")\n",
    "my_function2('Ali')\n",
    "my_function2('Ahmed')\n",
    "my_function2('Simran')"
   ]
  },
  {
   "cell_type": "markdown",
   "metadata": {},
   "source": [
    "Default parameter function"
   ]
  },
  {
   "cell_type": "code",
   "execution_count": 6,
   "metadata": {},
   "outputs": [
    {
     "name": "stdout",
     "output_type": "stream",
     "text": [
      "Ali is a Student of IT.\n",
      "Thier motherland is Pakistan\n",
      "Ahmed is a Student of IT.\n",
      "Thier motherland is India\n",
      "Simran is a Student of IT.\n",
      "Thier motherland is Japan\n"
     ]
    }
   ],
   "source": [
    "def my_function3(e_name,country='Japan'):\n",
    "    print(e_name + \" is a Student of IT.\\nThier motherland is \"+country)\n",
    "my_function3('Ali','Pakistan')\n",
    "my_function3('Ahmed','India')\n",
    "my_function3('Simran')"
   ]
  },
  {
   "cell_type": "markdown",
   "metadata": {},
   "source": [
    "Passing a List as a Paramete to Function"
   ]
  },
  {
   "cell_type": "code",
   "execution_count": 7,
   "metadata": {},
   "outputs": [
    {
     "name": "stdout",
     "output_type": "stream",
     "text": [
      "Muhammad Faiq\n",
      "BCS21245\n",
      "3.22\n",
      "21\n"
     ]
    }
   ],
   "source": [
    "#we use the my_list that we make the in upper cell\n",
    "def my_functtion4(data):\n",
    "    for item in data:\n",
    "        print(item)\n",
    "my_functtion4(my_list)        "
   ]
  },
  {
   "cell_type": "markdown",
   "metadata": {},
   "source": [
    "Return values in Functions"
   ]
  },
  {
   "cell_type": "code",
   "execution_count": 8,
   "metadata": {},
   "outputs": [
    {
     "data": {
      "text/plain": [
       "2.5"
      ]
     },
     "execution_count": 8,
     "metadata": {},
     "output_type": "execute_result"
    }
   ],
   "source": [
    "def my_function5(num):\n",
    "    return num/2\n",
    "my_function5(5)  "
   ]
  },
  {
   "cell_type": "markdown",
   "metadata": {},
   "source": [
    "Keyword Arguments in function"
   ]
  },
  {
   "cell_type": "code",
   "execution_count": 9,
   "metadata": {},
   "outputs": [
    {
     "name": "stdout",
     "output_type": "stream",
     "text": [
      "The youngest child is Poja\n"
     ]
    }
   ],
   "source": [
    "def my_function6(child3, child2, child1):\n",
    "    print(\"The youngest child is \" + child3)\n",
    "my_function6(child1 = \"Nimo\", child2 = \"lakhshman\", child3 = \"Poja\")"
   ]
  },
  {
   "cell_type": "markdown",
   "metadata": {},
   "source": [
    "# Python Classes/Objects"
   ]
  },
  {
   "cell_type": "code",
   "execution_count": 10,
   "metadata": {},
   "outputs": [
    {
     "name": "stdout",
     "output_type": "stream",
     "text": [
      "5 \n",
      "\n",
      "BCS21245\n",
      "Student name is Faiq. His age is 21.Their roll number BCS21245 and CPGA is 3.22 \n",
      "Student name is Suriya. His age is 20.Their roll number BCS21237 and CPGA is 3.66 \n"
     ]
    }
   ],
   "source": [
    "#Simple class and their object\n",
    "class my_class: \n",
    "    x=5\n",
    "obj1=my_class()\n",
    "print(obj1.x,'\\n')\n",
    "\n",
    "#_init()_ function\n",
    "class Person:\n",
    "    def __init__(self,name,roll_no,age,CGPA):\n",
    "        self.name=name\n",
    "        self.roll_no=roll_no\n",
    "        self.age=age\n",
    "        self.CGPA=CGPA\n",
    "    def display_info(self):\n",
    "        print(f\"Student name is {self.name}. His age is {self.age}.Their roll number {self.roll_no} and CPGA is {self.CGPA} \")\n",
    "p1=Person(\"Faiq\",\"BCS21245\",21,3.22)\n",
    "p2=Person(\"Suriya\",'BCS21237',20,3.66)\n",
    "\n",
    "print(p1.roll_no)\n",
    "#object methoods\n",
    "\n",
    "p1.display_info()\n",
    "p2.display_info()"
   ]
  }
 ],
 "metadata": {
  "kernelspec": {
   "display_name": "Python 3",
   "language": "python",
   "name": "python3"
  },
  "language_info": {
   "codemirror_mode": {
    "name": "ipython",
    "version": 3
   },
   "file_extension": ".py",
   "mimetype": "text/x-python",
   "name": "python",
   "nbconvert_exporter": "python",
   "pygments_lexer": "ipython3",
   "version": "3.10.5"
  }
 },
 "nbformat": 4,
 "nbformat_minor": 2
}
