{
 "cells": [
  {
   "cell_type": "markdown",
   "metadata": {},
   "source": [
    "#  Lab # 1\n"
   ]
  },
  {
   "cell_type": "code",
   "execution_count": 54,
   "metadata": {},
   "outputs": [
    {
     "name": "stdout",
     "output_type": "stream",
     "text": [
      "hello World\n"
     ]
    }
   ],
   "source": [
    "print(\"hello World\")"
   ]
  },
  {
   "cell_type": "markdown",
   "metadata": {},
   "source": [
    "Comment in Python "
   ]
  },
  {
   "cell_type": "code",
   "execution_count": 55,
   "metadata": {},
   "outputs": [
    {
     "name": "stdout",
     "output_type": "stream",
     "text": [
      "Sum of two numbers is:  30\n"
     ]
    }
   ],
   "source": [
    "a=10 #declared a variable 'a' and intializing with 10 value\n",
    "b=20 #declared a variable 'b' and intializing with 20 value\n",
    "print(\"Sum of two numbers is: \", a+b) #addin two vaiables "
   ]
  },
  {
   "cell_type": "markdown",
   "metadata": {},
   "source": [
    "Input / Output"
   ]
  },
  {
   "cell_type": "code",
   "execution_count": 56,
   "metadata": {},
   "outputs": [
    {
     "name": "stdout",
     "output_type": "stream",
     "text": [
      "21\n"
     ]
    }
   ],
   "source": [
    "Age=input(\"Enter Your age: \")\n",
    "print(Age)"
   ]
  },
  {
   "cell_type": "markdown",
   "metadata": {},
   "source": [
    "Indentation in Python"
   ]
  },
  {
   "cell_type": "code",
   "execution_count": 57,
   "metadata": {},
   "outputs": [
    {
     "name": "stdout",
     "output_type": "stream",
     "text": [
      "x is greater\n"
     ]
    }
   ],
   "source": [
    "x=3\n",
    "if x>0:\n",
    "    print(\"x is greater\")\n",
    "else:\n",
    "    print(\"x is smaller\")\n"
   ]
  },
  {
   "cell_type": "markdown",
   "metadata": {},
   "source": [
    "Data Types and Type Casting"
   ]
  },
  {
   "cell_type": "code",
   "execution_count": 58,
   "metadata": {},
   "outputs": [
    {
     "name": "stdout",
     "output_type": "stream",
     "text": [
      "<class 'int'>\n",
      "<class 'str'>\n",
      "<class 'float'>\n",
      "<class 'bool'>\n",
      "Complex value show in output terminali is like that:  (2+4j)\n",
      "<class 'complex'>\n"
     ]
    }
   ],
   "source": [
    "a=1234 #integer NUMBER\n",
    "name=\"Faiq\" #String\n",
    "CGPA=3.22 #Float NUMBER\n",
    "bool_variable= True #Boolean\n",
    "complex_variable = complex(2,4) #Python support complex NUMBER type\n",
    "print(type(a))\n",
    "print(type(name))\n",
    "print(type(CGPA))\n",
    "print(type(bool_variable))\n",
    "print(\"Complex value show in output terminali is like that: \",complex_variable)\n",
    "print(type(complex_variable))\n"
   ]
  },
  {
   "cell_type": "markdown",
   "metadata": {},
   "source": [
    "Special Character in Strings\n"
   ]
  },
  {
   "cell_type": "code",
   "execution_count": 59,
   "metadata": {},
   "outputs": [
    {
     "name": "stdout",
     "output_type": "stream",
     "text": [
      "this is the blackslash \\ marks\n",
      "this is the 'Single Quote' \n",
      "this is the \"Double Quotes\" \n",
      "this is the \t Horizontal Tab\n",
      "this is the \n",
      " New line tab \n"
     ]
    }
   ],
   "source": [
    "print(\"this is the blackslash \\\\ marks\")\n",
    "print(\"this is the \\'Single Quote\\' \")\n",
    "print(\"this is the \\\"Double Quotes\\\" \")\n",
    "print(\"this is the \\t Horizontal Tab\")\n",
    "print(\"this is the \\n New line tab \")"
   ]
  },
  {
   "cell_type": "markdown",
   "metadata": {},
   "source": [
    "String indices and accessing string elements"
   ]
  },
  {
   "cell_type": "code",
   "execution_count": 60,
   "metadata": {},
   "outputs": [
    {
     "name": "stdout",
     "output_type": "stream",
     "text": [
      "H\n",
      "r\n",
      " \n",
      "t\n",
      "t\n",
      "m\n",
      "I am pytho\n"
     ]
    }
   ],
   "source": [
    "string=\"Hi! I am python Programmer\"\n",
    "print(string[0])\n",
    "print(string[-1])\n",
    "print(string[5])\n",
    "print(string[11])\n",
    "print(string[-15])\n",
    "print(string[7])\n",
    "print(string[4:14]) #To cut a substring from a string is called string slicing.\"14 index is is not include\" "
   ]
  },
  {
   "cell_type": "markdown",
   "metadata": {},
   "source": [
    "Lists in python"
   ]
  },
  {
   "cell_type": "code",
   "execution_count": 61,
   "metadata": {},
   "outputs": [
    {
     "name": "stdout",
     "output_type": "stream",
     "text": [
      "[5, 2, 3, 5, 8]\n",
      "['Cricket', 'Footbal', 'Hockey']\n",
      "['faiq', 21, 3.22]\n",
      "3.22\n",
      "Hockey\n",
      "['Cricket', 'Footbal']\n"
     ]
    }
   ],
   "source": [
    "my_list1=[5,2,3,5,8]\n",
    "print(my_list1)\n",
    "my_list2=['Cricket',\"Footbal\",'Hockey',]\n",
    "print(my_list2)\n",
    "my_list3=[\"faiq\",21,3.22 ]\n",
    "print(my_list3)\n",
    "#list Indices\n",
    "print(my_list3[-1])\n",
    "print(my_list2[2])\n",
    "#list slicing\n",
    "print(my_list2[0:2])"
   ]
  },
  {
   "cell_type": "markdown",
   "metadata": {},
   "source": [
    "Conditional Statements"
   ]
  },
  {
   "cell_type": "code",
   "execution_count": 62,
   "metadata": {},
   "outputs": [
    {
     "name": "stdout",
     "output_type": "stream",
     "text": [
      "value of a is greater\n",
      "value of b and c is equal\n",
      "value of b and d are not equal\n",
      "a is less or equal to d\n"
     ]
    }
   ],
   "source": [
    "a=13\n",
    "b=7\n",
    "c=7\n",
    "d=20\n",
    "if a>b:\n",
    "    print(\"value of a is greater\")\n",
    "if b==c:\n",
    "    print(\"value of b and c is equal\")\n",
    "if b!=d:\n",
    "    print(\"value of b and d are not equal\")\n",
    "if a<=d:\n",
    "    print(\"a is less or equal to d\")    \n"
   ]
  }
 ],
 "metadata": {
  "kernelspec": {
   "display_name": "Python 3",
   "language": "python",
   "name": "python3"
  },
  "language_info": {
   "codemirror_mode": {
    "name": "ipython",
    "version": 3
   },
   "file_extension": ".py",
   "mimetype": "text/x-python",
   "name": "python",
   "nbconvert_exporter": "python",
   "pygments_lexer": "ipython3",
   "version": "3.10.5"
  }
 },
 "nbformat": 4,
 "nbformat_minor": 2
}
