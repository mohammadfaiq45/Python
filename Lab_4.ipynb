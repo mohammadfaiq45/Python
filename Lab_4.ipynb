{
 "cells": [
  {
   "cell_type": "markdown",
   "metadata": {},
   "source": [
    "# Lab 4"
   ]
  },
  {
   "cell_type": "markdown",
   "metadata": {},
   "source": [
    "# Implement Stack using Python"
   ]
  },
  {
   "cell_type": "code",
   "execution_count": 1,
   "metadata": {},
   "outputs": [
    {
     "name": "stdout",
     "output_type": "stream",
     "text": [
      "Stack is created!!\n",
      "Poja is push in stack!\n",
      "11 is push in stack!\n",
      "(11, 22, 33) is push in stack!\n",
      "{'name': 'faiq', 'age': 22} is push in stack!\n",
      "length of stack is  4\n",
      "Now! top element in stack is  {'name': 'faiq', 'age': 22}\n",
      "{'name': 'faiq', 'age': 22} is pop from stack\n",
      "(11, 22, 33) is pop from stack\n",
      "Data in stack are: \n",
      "[11, 'Poja']\n"
     ]
    }
   ],
   "source": [
    "class stack:\n",
    "    def __init__(self):\n",
    "        self.s1=[]\n",
    "        self.size=0\n",
    "        print(\"Stack is created!!\")\n",
    "    def push(self,item):\n",
    "        self.s1.append(item)\n",
    "        print(item,\"is push in stack!\")\n",
    "        self.size+=1             \n",
    "    def pop(self):\n",
    "        if self.is_empty():\n",
    "            print(\"Your stack is Empty!!\")\n",
    "            return\n",
    "        print(self.s1[-1],\"is pop from stack\")\n",
    "        self.s1.pop()\n",
    "        self.size=size-1\n",
    "    def top(self):\n",
    "        if self.size==0:\n",
    "            print(\"Your stack is emoty!\")\n",
    "            return\n",
    "        else:\n",
    "            return self.s1[-1]\n",
    "    def is_empty(self):\n",
    "        if self.size==0:\n",
    "            return True\n",
    "        else:    \n",
    "            return False    \n",
    "    def display_stack(self):\n",
    "        print(\"Data in stack are: \")\n",
    "        print(self.s1[::-1])\n",
    "    def length(self):\n",
    "        return self.size\n",
    "size=0       \n",
    "s1=stack()\n",
    "s1.push('Poja')\n",
    "s1.push(11)\n",
    "s1.push((11,22,33))\n",
    "s1.push({'name':'faiq','age':22})\n",
    "print(\"length of stack is \",s1.length())\n",
    "print(\"Now! top element in stack is \",s1.top())\n",
    "s1.pop()\n",
    "s1.pop()\n",
    "s1.display_stack()            "
   ]
  },
  {
   "cell_type": "markdown",
   "metadata": {},
   "source": [
    "# Implement Queue using Python"
   ]
  },
  {
   "cell_type": "code",
   "execution_count": 2,
   "metadata": {},
   "outputs": [
    {
     "name": "stdout",
     "output_type": "stream",
     "text": [
      "Queue is created!\n",
      "11 is add in Queue\n",
      "Lakhshmi is add in Queue\n",
      "(11, 22, 33) is add in Queue\n",
      "{'Universty': 'PUGC'} is add in Queue\n",
      "Length of Queue is  4\n",
      "11 is get form Queue\n",
      "Lakhshmi is get form Queue\n"
     ]
    }
   ],
   "source": [
    "class queue:\n",
    "    def __init__(self):\n",
    "        self.Q1=[]\n",
    "        self.size=0\n",
    "        print(\"Queue is created!\")\n",
    "    def enqueue(self,item):\n",
    "        print(item,\"is add in Queue\")\n",
    "        self.Q1.append(item)\n",
    "        self.size+=1   \n",
    "    def dequeue(self):\n",
    "        if self.is_empty():\n",
    "            print(\"Your Queue is empty!\")\n",
    "        print(self.Q1.pop(0), \"is get form Queue\")\n",
    "        self.size-=1    \n",
    "    def is_empty(self):\n",
    "        if self.size==0:\n",
    "            return True\n",
    "        else:\n",
    "            return False    \n",
    "    def length(self):\n",
    "        return self.size\n",
    "size=0\n",
    "Q1=queue()\n",
    "Q1.enqueue(11)\n",
    "Q1.enqueue(\"Lakhshmi\")\n",
    "Q1.enqueue((11,22,33))\n",
    "Q1.enqueue({\"Universty\":\"PUGC\"})\n",
    "print(\"Length of Queue is \",Q1.length())\n",
    "Q1.dequeue()\n",
    "Q1.dequeue()\n"
   ]
  },
  {
   "cell_type": "markdown",
   "metadata": {},
   "source": [
    "In computer science, a binary search or half-interval search algorithm finds the position of\n",
    "a target value within a sorted array. The binary search algorithm can be classified as a\n",
    "dichotomies divide-and-conquer search algorithm and executes in logarithmic time."
   ]
  },
  {
   "cell_type": "code",
   "execution_count": 14,
   "metadata": {},
   "outputs": [
    {
     "name": "stdout",
     "output_type": "stream",
     "text": [
      "45 this element is found in array\n"
     ]
    }
   ],
   "source": [
    "def binary_search(arr,data):\n",
    "    low=0\n",
    "    high=len(arr)-1\n",
    "    while low<=high:\n",
    "        mid=(low+high)//2 # if i use / operator than i get 5/2 = 2.5 and this not in index form so that why i use // operator\n",
    "        if data>arr[mid]:\n",
    "            low=mid+1\n",
    "        elif data<arr[mid]:\n",
    "            high=mid-1\n",
    "        elif data==arr[mid]:\n",
    "            return f\"{data} this element is found in array\"\n",
    "    return f\"{data} this is not in array\"             \n",
    "\n",
    "arr=[6,12,17,23,38,45,77,84,90]\n",
    "result=binary_search(arr,45)\n",
    "print(result)"
   ]
  }
 ],
 "metadata": {
  "kernelspec": {
   "display_name": "Python 3",
   "language": "python",
   "name": "python3"
  },
  "language_info": {
   "codemirror_mode": {
    "name": "ipython",
    "version": 3
   },
   "file_extension": ".py",
   "mimetype": "text/x-python",
   "name": "python",
   "nbconvert_exporter": "python",
   "pygments_lexer": "ipython3",
   "version": "3.10.5"
  }
 },
 "nbformat": 4,
 "nbformat_minor": 2
}
