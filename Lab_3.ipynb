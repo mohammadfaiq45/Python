{
 "cells": [
  {
   "cell_type": "markdown",
   "metadata": {},
   "source": [
    "# Lab 3"
   ]
  },
  {
   "cell_type": "markdown",
   "metadata": {},
   "source": [
    "Python Program to find those numbers which are divisible by 7 and multiple of 5, between 1500 and 2700 (both included)."
   ]
  },
  {
   "cell_type": "code",
   "execution_count": 1,
   "metadata": {},
   "outputs": [
    {
     "name": "stdout",
     "output_type": "stream",
     "text": [
      "1505 1540 1575 1610 1645 1680 1715 1750 1785 1820 1855 1890 1925 1960 1995 2030 2065 2100 2135 2170 2205 2240 2275 2310 2345 2380 2415 2450 2485 2520 2555 2590 2625 2660 2695 "
     ]
    }
   ],
   "source": [
    "for i in range(1500,2701):\n",
    "    if(i%7==0 and i%5==0):\n",
    "        print(i, end=' ')"
   ]
  },
  {
   "cell_type": "markdown",
   "metadata": {},
   "source": [
    "Python Program to convert temperatures to and from Celsius, Fahrenheit. [Formula: c/5 = f-32/9 [where c=temperature in Celsius and f=temperature in Fahrenheit]] expected output: 60°C is 140 in Fahrenheit. 45°F is 7 in Celsius."
   ]
  },
  {
   "cell_type": "code",
   "execution_count": 2,
   "metadata": {},
   "outputs": [
    {
     "name": "stdout",
     "output_type": "stream",
     "text": [
      "60 Celsius convert into 140.0 Farhrenheit\n",
      "45 Farhrenheit convert into 7.222222222222222 Celsius\n"
     ]
    }
   ],
   "source": [
    "def celsius_to_fahrenheit(celsius):\n",
    "    farhrenheit=(9/5 * celsius) + 32\n",
    "    return farhrenheit\n",
    "\n",
    "def farhrenheit_to_celsius(farhrenheit):\n",
    "    celsius= (farhrenheit - 32) * 5/9\n",
    "    return celsius\n",
    "\n",
    "celsius=60\n",
    "print(f\"60 Celsius convert into {celsius_to_fahrenheit(celsius)} Farhrenheit\")\n",
    "farhrenheit=45\n",
    "print(f\"45 Farhrenheit convert into {farhrenheit_to_celsius(farhrenheit)} Celsius\")        "
   ]
  },
  {
   "cell_type": "markdown",
   "metadata": {},
   "source": [
    "Python Program to guess a number between 1 to 9. Note:User is prompted to enter a guess. If the user guesses wrong then the prompt appears again until the guess is correct, on successful guess, user will get a \"Well guessed!\" message, and the program will exit.\n"
   ]
  },
  {
   "cell_type": "code",
   "execution_count": 3,
   "metadata": {},
   "outputs": [
    {
     "name": "stdout",
     "output_type": "stream",
     "text": [
      "Wrong Guessed!\n",
      "Wrong Guessed!\n",
      "Wrong Guessed!\n",
      "Well Guessed!!\n"
     ]
    }
   ],
   "source": [
    "import random\n",
    "random_number=random.randint(1,9)\n",
    "while(True):\n",
    "    user_number=int(input(\"Enter the number between 1 to 9 \"))\n",
    "    if user_number==random_number:\n",
    "        print(\"Well Guessed!!\")\n",
    "        break\n",
    "    elif user_number>10:\n",
    "        print(\"Wrong Guessed!Your number is out of range.\")\n",
    "    elif user_number!=random_number:\n",
    "        print(\"Wrong Guessed!\")\n",
    "    else:\n",
    "        print(\"User input Error!\")    \n",
    "\n",
    "\n"
   ]
  },
  {
   "cell_type": "markdown",
   "metadata": {},
   "source": [
    "Python Program to construct the following pattern, using a nested for loop."
   ]
  },
  {
   "cell_type": "code",
   "execution_count": 4,
   "metadata": {},
   "outputs": [
    {
     "name": "stdout",
     "output_type": "stream",
     "text": [
      "*\n",
      "\n",
      "**\n",
      "\n",
      "***\n",
      "\n",
      "****\n",
      "\n",
      "*****\n",
      "\n",
      "****\n",
      "\n",
      "***\n",
      "\n",
      "**\n",
      "\n",
      "*\n",
      "\n"
     ]
    }
   ],
   "source": [
    "for i in range(1,6):\n",
    "    for j in range(i):\n",
    "        print(\"*\",end='')\n",
    "    print(\"\\n\")    \n",
    "for i in range(4,0,-1):\n",
    "    for j in range(i):\n",
    "        print(\"*\",end='')\n",
    "        i=i-1\n",
    "    print(\"\\n\")                    "
   ]
  },
  {
   "cell_type": "markdown",
   "metadata": {},
   "source": [
    "Python program that accepts a word from the user and reverse it."
   ]
  },
  {
   "cell_type": "code",
   "execution_count": 5,
   "metadata": {},
   "outputs": [
    {
     "name": "stdout",
     "output_type": "stream",
     "text": [
      "qiaf ma i olleh\n"
     ]
    }
   ],
   "source": [
    "user_word=input(\"Enter the word \")\n",
    "reverse=user_word[::-1]\n",
    "print(reverse)"
   ]
  },
  {
   "cell_type": "markdown",
   "metadata": {},
   "source": [
    "Python program to count the number of even and odd numbers from a series of numbers."
   ]
  },
  {
   "cell_type": "code",
   "execution_count": 6,
   "metadata": {},
   "outputs": [
    {
     "name": "stdout",
     "output_type": "stream",
     "text": [
      "Number of even numbers in list are 4\n",
      "Number of odd numbers in list are 5\n"
     ]
    }
   ],
   "source": [
    "list_numbers=[1,2,3,4,5,6,7,8,9]\n",
    "even_count=0\n",
    "odd_count=0\n",
    "for number in list_numbers:\n",
    "    if number%2==0:\n",
    "        even_count=even_count+1\n",
    "    else:\n",
    "        odd_count=odd_count+1    \n",
    "\n",
    "print(f\"Number of even numbers in list are {even_count}\")\n",
    "print(f\"Number of odd numbers in list are {odd_count}\")"
   ]
  },
  {
   "cell_type": "markdown",
   "metadata": {},
   "source": [
    "Python program that prints each item and its corresponding type from the following list."
   ]
  },
  {
   "cell_type": "code",
   "execution_count": 7,
   "metadata": {},
   "outputs": [
    {
     "name": "stdout",
     "output_type": "stream",
     "text": [
      "Muhammad Faiq <class 'str'>\n",
      "3.22 <class 'float'>\n",
      "21 <class 'int'>\n",
      "('C++', 'Python', 'CSS') <class 'tuple'>\n",
      "['Software Engineering', 4, 3] <class 'list'>\n",
      "{'name': 'faiq', 'Status': 'single'} <class 'dict'>\n"
     ]
    }
   ],
   "source": [
    "items=[\"Muhammad Faiq\",3.22,21,(\"C++\",\"Python\",\"CSS\"),[\"Software Engineering\" ,4,3],{\"name\":\"faiq\",\"Status\": \"single\"}]\n",
    "for item in items:\n",
    "    print(item ,type(item))"
   ]
  },
  {
   "cell_type": "markdown",
   "metadata": {},
   "source": [
    "Python program that prints all the numbers from O to 6 except 3 and 6.\n",
    "Note : Use 'continue' statement."
   ]
  },
  {
   "cell_type": "code",
   "execution_count": 8,
   "metadata": {},
   "outputs": [
    {
     "name": "stdout",
     "output_type": "stream",
     "text": [
      "0\n",
      "1\n",
      "2\n",
      "4\n",
      "5\n"
     ]
    }
   ],
   "source": [
    "for i in range(0,7):\n",
    "    if i==3 or i==6:\n",
    "        continue\n",
    "    print(i)      "
   ]
  },
  {
   "cell_type": "markdown",
   "metadata": {},
   "source": [
    "Python program to get the Fibonacci series between Oto 50. \n",
    "Note : The Fibonacci Sequence is the series of numbers:0, 1, 1, 2, 3, 5, 8, 13, 21, ....\n",
    "Every next number is found by adding up the two numbers before it.\n",
    "Expected Output: 1 1 2 3 5 8 13 21 34"
   ]
  },
  {
   "cell_type": "code",
   "execution_count": 9,
   "metadata": {},
   "outputs": [
    {
     "name": "stdout",
     "output_type": "stream",
     "text": [
      "0 1 1 2 3 5 8 13 21 34 "
     ]
    }
   ],
   "source": [
    "f1=0\n",
    "f2=1\n",
    "while(f1<=50):\n",
    "    if(f1<=50):\n",
    "        print(f1,end=' ')\n",
    "    f1,f2=f2,f1+f2    "
   ]
  },
  {
   "cell_type": "markdown",
   "metadata": {},
   "source": [
    "Python program which iterates the integers from 1 to 50. For multiples of three print \"Fizz\" instead of the number and for the multiples of five print \"Buzz\". For numbers which are multiples of both three\n",
    "and five print \"FizzBuzz\".\n",
    "Sample Output : fizzbuzz\n",
    "1\n",
    "2\n",
    "fizz 4\n",
    "buzz"
   ]
  },
  {
   "cell_type": "code",
   "execution_count": 10,
   "metadata": {},
   "outputs": [
    {
     "name": "stdout",
     "output_type": "stream",
     "text": [
      "1 2 fizz\n",
      "3 4 buzz\n",
      "5 fizz\n",
      "6 7 8 fizz\n",
      "9 buzz\n",
      "10 11 fizz\n",
      "12 13 14 fizz\n",
      "buzz\n",
      "fizzbuzz\n",
      "16 17 fizz\n",
      "18 19 buzz\n",
      "20 fizz\n",
      "21 22 23 fizz\n",
      "24 buzz\n",
      "25 26 fizz\n",
      "27 28 29 fizz\n",
      "buzz\n",
      "fizzbuzz\n",
      "31 32 fizz\n",
      "33 34 buzz\n",
      "35 fizz\n",
      "36 37 38 fizz\n",
      "39 buzz\n",
      "40 41 fizz\n",
      "42 43 44 fizz\n",
      "buzz\n",
      "fizzbuzz\n",
      "46 47 fizz\n",
      "48 49 buzz\n",
      "50 "
     ]
    }
   ],
   "source": [
    "for i in range(1,51):\n",
    "    if i % 3==0:\n",
    "        print(\"fizz\")\n",
    "    if i % 5==0:\n",
    "        print(\"buzz\")\n",
    "    if i % 3 == 0 and i % 5 == 0:\n",
    "        print(\"fizzbuzz\")\n",
    "    else:\n",
    "        print(i,end=' ')            "
   ]
  },
  {
   "cell_type": "markdown",
   "metadata": {},
   "source": [
    "Python program which takes two digits m {row) and n {column) as input\n",
    "and generates a two-dimensional array. The element value in the i-th row and j-th\n",
    "column of the array should be i*j.\n",
    "Note:\n",
    "i = 0,1.., m-1\n",
    "j = 0,1, n-1.\n",
    "Test Data : Rows = 3, Columns = 4\n",
    "Expected Result : [[0, 0, 0, 0], [0, 1, 2, 3], [0, 2, 4, 6]]"
   ]
  },
  {
   "cell_type": "code",
   "execution_count": 11,
   "metadata": {},
   "outputs": [
    {
     "name": "stdout",
     "output_type": "stream",
     "text": [
      "[[0, 3, 4, 3, 0], [0, 3, 4, 3, 0], [0, 3, 4, 3, 0], [0, 3, 4, 3, 0], [0, 3, 4, 3, 0]]\n"
     ]
    }
   ],
   "source": [
    "def two_demensional_array(m,n):\n",
    "    arr = [[0] * m] * n\n",
    "    for m in range(m):\n",
    "        for n in range(n):\n",
    "            arr[m][n] = m * n\n",
    "    return arr\n",
    "\n",
    "m=int(input(\"Enter the rows number you want \"))\n",
    "n=int(input(\"Enter the columns numbers you want \"))\n",
    "print(two_demensional_array(m,n))"
   ]
  },
  {
   "cell_type": "markdown",
   "metadata": {},
   "source": [
    "Python program that accepts a sequence of lines {blank line to terminate) as input and prints the lines as output {all characters in lower case)."
   ]
  },
  {
   "cell_type": "code",
   "execution_count": 12,
   "metadata": {},
   "outputs": [
    {
     "name": "stdout",
     "output_type": "stream",
     "text": [
      "['hello i am faiq', 'my hobby is programming']\n"
     ]
    }
   ],
   "source": [
    "lines=[]\n",
    "while(True):\n",
    "    user_input=input(\"Enter the line (blank line to terminate): \")\n",
    "    if user_input:\n",
    "        lines.append(user_input.lower())\n",
    "    else:\n",
    "        break    \n",
    "print(lines)\n"
   ]
  },
  {
   "cell_type": "markdown",
   "metadata": {},
   "source": [
    "Python program which accepts a sequence of comma separated 4 digit binary numbers as its input and print the numbers that are divisible by 5 in a comma separated sequence.\n",
    "Sample Data : 0100,0011,1010,1001,1100,1001\n",
    "Expected Output: 1010"
   ]
  },
  {
   "cell_type": "code",
   "execution_count": 14,
   "metadata": {},
   "outputs": [
    {
     "name": "stdout",
     "output_type": "stream",
     "text": [
      "1111,1111,\n"
     ]
    }
   ],
   "source": [
    "def print_lines():\n",
    "    line = str(input(\"Enter a sequence of comma separated 4 digit binary numbers:\"))\n",
    "    line = line.split(',')\n",
    "    for i in line:\n",
    "        if int(i, 2) % 5 == 0:\n",
    "            print(i, end=',')\n",
    "    print()\n",
    "\n",
    "print_lines()\n"
   ]
  },
  {
   "cell_type": "markdown",
   "metadata": {},
   "source": [
    "Python program that accepts a string and calculate the number of digits and letters.\n",
    "Sample Data: Python 3.2 Expected Output:\n",
    "Letters 6\n",
    "Digits 2"
   ]
  },
  {
   "cell_type": "code",
   "execution_count": 15,
   "metadata": {},
   "outputs": [
    {
     "name": "stdout",
     "output_type": "stream",
     "text": [
      "Number of digits are 3\n",
      "Number of letter are 8\n"
     ]
    }
   ],
   "source": [
    "user_string=input(\"Enter the string\")\n",
    "digits=0\n",
    "letters=0\n",
    "for element in user_string:\n",
    "    if element.isdigit():\n",
    "        digits+=1\n",
    "    elif element.isalpha():\n",
    "        letters+=1\n",
    "print(f\"Number of digits are {digits}\")\n",
    "print(f\"Number of letter are {letters}\")\n"
   ]
  },
  {
   "cell_type": "markdown",
   "metadata": {},
   "source": [
    "Python program to check the validity of password input by users. Validation \n",
    "At least 1 letter between [a-z] and 1 letter between [A-Z].\n",
    "At least 1 number between [0-9].\n",
    "At least 1 character from [$#@].\n",
    "Minimum length 6 characters.\n",
    "Maximum length 16 characters."
   ]
  },
  {
   "cell_type": "code",
   "execution_count": 16,
   "metadata": {},
   "outputs": [
    {
     "name": "stdout",
     "output_type": "stream",
     "text": [
      "Your password must contain at least one of the following characters: $#@&.\n",
      "Your password must contain at least one uppercase element.\n",
      "Your Password is Valid!!\n"
     ]
    }
   ],
   "source": [
    "def validity_of_password(user_pass):\n",
    "    while True:\n",
    "        if len(user_pass) <= 6:\n",
    "            print(\"Your password length is less than 6. Password must be greater than 6 elements.\")\n",
    "            user_pass = input(\"Enter Your Password: \")\n",
    "        elif len(user_pass) >= 16:\n",
    "            print(\"Your Password length must be less than 16 elements.\")\n",
    "            user_pass = input(\"Enter Your Password: \")\n",
    "        elif not any(char.isupper() for char in user_pass):\n",
    "            print(\"Your password must contain at least one uppercase element.\")\n",
    "            user_pass = input(\"Enter Your Password: \")\n",
    "        elif not any(char.islower() for char in user_pass):\n",
    "            print(\"Your password must contain at least one lowercase element.\")\n",
    "            user_pass = input(\"Enter Your Password: \")\n",
    "        elif not any(char in \"$#@&\" for char in user_pass):\n",
    "            print(\"Your password must contain at least one of the following characters: $#@&.\")\n",
    "            user_pass = input(\"Enter Your Password: \")\n",
    "        else:\n",
    "            print(\"Your Password is Valid!!\")\n",
    "            break\n",
    "\n",
    "user_password = input(\"Enter Your Password: \")\n",
    "validity_of_password(user_password)\n"
   ]
  }
 ],
 "metadata": {
  "kernelspec": {
   "display_name": "Python 3",
   "language": "python",
   "name": "python3"
  },
  "language_info": {
   "codemirror_mode": {
    "name": "ipython",
    "version": 3
   },
   "file_extension": ".py",
   "mimetype": "text/x-python",
   "name": "python",
   "nbconvert_exporter": "python",
   "pygments_lexer": "ipython3",
   "version": "3.10.5"
  }
 },
 "nbformat": 4,
 "nbformat_minor": 2
}
